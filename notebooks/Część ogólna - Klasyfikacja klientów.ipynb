{
 "cells": [
  {
   "cell_type": "code",
   "execution_count": 225,
   "id": "a4ac7223",
   "metadata": {},
   "outputs": [],
   "source": [
    "import pandas as pd\n",
    "import numpy as np\n",
    "from sklearn.model_selection import train_test_split\n",
    "from sklearn.ensemble import RandomForestClassifier\n",
    "from sklearn import metrics "
   ]
  },
  {
   "cell_type": "code",
   "execution_count": 198,
   "id": "70b29af8",
   "metadata": {},
   "outputs": [
    {
     "name": "stdout",
     "output_type": "stream",
     "text": [
      "Current working directory set to:\n"
     ]
    },
    {
     "data": {
      "text/plain": [
       "'/Users/joannawojdylo/Documents/Trainings/inpost'"
      ]
     },
     "execution_count": 198,
     "metadata": {},
     "output_type": "execute_result"
    }
   ],
   "source": [
    "import os\n",
    "from os.path import expanduser\n",
    "home = expanduser(\"~\")\n",
    "os.chdir(os.path.join(home, 'Documents', 'Trainings', 'inpost'))\n",
    "print('Current working directory set to:')\n",
    "os.getcwd()"
   ]
  },
  {
   "cell_type": "code",
   "execution_count": 199,
   "id": "f7be21dd",
   "metadata": {},
   "outputs": [],
   "source": [
    "RAW_DIR = os.path.join(os.getcwd(), 'data', 'raw')"
   ]
  },
  {
   "cell_type": "code",
   "execution_count": 200,
   "id": "201078f9",
   "metadata": {},
   "outputs": [],
   "source": [
    "clients = pd.read_csv(os.path.join(RAW_DIR, 'klienci.csv'), index_col = 0)\n",
    "session_info = pd.read_csv(os.path.join(RAW_DIR, 'session_info.csv'))\n",
    "session_geo = pd.read_csv(os.path.join(RAW_DIR, 'session_geo.csv'))"
   ]
  },
  {
   "cell_type": "markdown",
   "id": "cc16b37e",
   "metadata": {},
   "source": [
    "### Mały feature engineering na początek, aby uzyskać dwie przydatne informacje"
   ]
  },
  {
   "cell_type": "code",
   "execution_count": 201,
   "id": "8468eb9f",
   "metadata": {},
   "outputs": [],
   "source": [
    "clients['srednia_dlugosc_sesji_min']=session_info.groupby(\"klient_id\")['dlugosc_sesji_min'].mean()"
   ]
  },
  {
   "cell_type": "code",
   "execution_count": 202,
   "id": "f96637dc",
   "metadata": {},
   "outputs": [
    {
     "name": "stderr",
     "output_type": "stream",
     "text": [
      "/var/folders/yc/q5bjbbwn1jd8gffd9tkxxp1r0000gn/T/ipykernel_33841/2114978671.py:3: SettingWithCopyWarning: \n",
      "A value is trying to be set on a copy of a slice from a DataFrame.\n",
      "Try using .loc[row_indexer,col_indexer] = value instead\n",
      "\n",
      "See the caveats in the documentation: https://pandas.pydata.org/pandas-docs/stable/user_guide/indexing.html#returning-a-view-versus-a-copy\n",
      "  session_info_clean_date['month'] = session_info_clean_date['date'].dt.to_period('M')\n"
     ]
    },
    {
     "data": {
      "text/html": [
       "<div>\n",
       "<style scoped>\n",
       "    .dataframe tbody tr th:only-of-type {\n",
       "        vertical-align: middle;\n",
       "    }\n",
       "\n",
       "    .dataframe tbody tr th {\n",
       "        vertical-align: top;\n",
       "    }\n",
       "\n",
       "    .dataframe thead th {\n",
       "        text-align: right;\n",
       "    }\n",
       "</style>\n",
       "<table border=\"1\" class=\"dataframe\">\n",
       "  <thead>\n",
       "    <tr style=\"text-align: right;\">\n",
       "      <th></th>\n",
       "      <th>id_sesji</th>\n",
       "      <th>klient_id</th>\n",
       "      <th>date</th>\n",
       "      <th>dlugosc_sesji_min</th>\n",
       "      <th>month</th>\n",
       "    </tr>\n",
       "  </thead>\n",
       "  <tbody>\n",
       "    <tr>\n",
       "      <th>0</th>\n",
       "      <td>972387</td>\n",
       "      <td>0</td>\n",
       "      <td>2020-05-01 18:07:54</td>\n",
       "      <td>3.302053</td>\n",
       "      <td>2020-05</td>\n",
       "    </tr>\n",
       "    <tr>\n",
       "      <th>1</th>\n",
       "      <td>384994</td>\n",
       "      <td>0</td>\n",
       "      <td>2020-04-14 13:31:19</td>\n",
       "      <td>0.274498</td>\n",
       "      <td>2020-04</td>\n",
       "    </tr>\n",
       "    <tr>\n",
       "      <th>2</th>\n",
       "      <td>173981</td>\n",
       "      <td>0</td>\n",
       "      <td>2020-08-04 17:36:17</td>\n",
       "      <td>2.846373</td>\n",
       "      <td>2020-08</td>\n",
       "    </tr>\n",
       "    <tr>\n",
       "      <th>3</th>\n",
       "      <td>144649</td>\n",
       "      <td>0</td>\n",
       "      <td>2020-04-14 09:54:36</td>\n",
       "      <td>1.009348</td>\n",
       "      <td>2020-04</td>\n",
       "    </tr>\n",
       "    <tr>\n",
       "      <th>4</th>\n",
       "      <td>475443</td>\n",
       "      <td>0</td>\n",
       "      <td>2020-04-24 21:51:14</td>\n",
       "      <td>4.217949</td>\n",
       "      <td>2020-04</td>\n",
       "    </tr>\n",
       "    <tr>\n",
       "      <th>5</th>\n",
       "      <td>309859</td>\n",
       "      <td>0</td>\n",
       "      <td>2020-04-26 09:56:34</td>\n",
       "      <td>4.798495</td>\n",
       "      <td>2020-04</td>\n",
       "    </tr>\n",
       "    <tr>\n",
       "      <th>6</th>\n",
       "      <td>441499</td>\n",
       "      <td>0</td>\n",
       "      <td>2020-04-14 14:43:53</td>\n",
       "      <td>9.465938</td>\n",
       "      <td>2020-04</td>\n",
       "    </tr>\n",
       "    <tr>\n",
       "      <th>7</th>\n",
       "      <td>815406</td>\n",
       "      <td>0</td>\n",
       "      <td>2020-06-11 19:29:20</td>\n",
       "      <td>3.706595</td>\n",
       "      <td>2020-06</td>\n",
       "    </tr>\n",
       "    <tr>\n",
       "      <th>9</th>\n",
       "      <td>215560</td>\n",
       "      <td>0</td>\n",
       "      <td>2020-04-04 18:25:34</td>\n",
       "      <td>7.643954</td>\n",
       "      <td>2020-04</td>\n",
       "    </tr>\n",
       "    <tr>\n",
       "      <th>10</th>\n",
       "      <td>50839</td>\n",
       "      <td>0</td>\n",
       "      <td>2020-06-17 19:13:38</td>\n",
       "      <td>4.362389</td>\n",
       "      <td>2020-06</td>\n",
       "    </tr>\n",
       "  </tbody>\n",
       "</table>\n",
       "</div>"
      ],
      "text/plain": [
       "    id_sesji  klient_id                date  dlugosc_sesji_min    month\n",
       "0     972387          0 2020-05-01 18:07:54           3.302053  2020-05\n",
       "1     384994          0 2020-04-14 13:31:19           0.274498  2020-04\n",
       "2     173981          0 2020-08-04 17:36:17           2.846373  2020-08\n",
       "3     144649          0 2020-04-14 09:54:36           1.009348  2020-04\n",
       "4     475443          0 2020-04-24 21:51:14           4.217949  2020-04\n",
       "5     309859          0 2020-04-26 09:56:34           4.798495  2020-04\n",
       "6     441499          0 2020-04-14 14:43:53           9.465938  2020-04\n",
       "7     815406          0 2020-06-11 19:29:20           3.706595  2020-06\n",
       "9     215560          0 2020-04-04 18:25:34           7.643954  2020-04\n",
       "10     50839          0 2020-06-17 19:13:38           4.362389  2020-06"
      ]
     },
     "execution_count": 202,
     "metadata": {},
     "output_type": "execute_result"
    }
   ],
   "source": [
    "session_info['date'] = pd.to_datetime(session_info['date'], infer_datetime_format=True, errors=\"coerce\")\n",
    "session_info_clean_date = session_info.dropna(subset=['date'])\n",
    "session_info_clean_date['month'] = session_info_clean_date['date'].dt.to_period('M')\n",
    "session_info_clean_date.head(10)"
   ]
  },
  {
   "cell_type": "code",
   "execution_count": 203,
   "id": "ecf08bca",
   "metadata": {},
   "outputs": [],
   "source": [
    "clients[\"srednia_liczba_sesji_na_miesiac\"] = session_info_clean_date.groupby([\"klient_id\", \"month\"]).count().groupby([\"klient_id\"])['date'].mean()"
   ]
  },
  {
   "cell_type": "code",
   "execution_count": 204,
   "id": "0f3d4452",
   "metadata": {},
   "outputs": [],
   "source": [
    "clients[['srednia_dlugosc_sesji_min', 'srednia_liczba_sesji_na_miesiac']] = clients[['srednia_dlugosc_sesji_min', 'srednia_liczba_sesji_na_miesiac']].round()"
   ]
  },
  {
   "cell_type": "code",
   "execution_count": 205,
   "id": "365b0103",
   "metadata": {},
   "outputs": [],
   "source": [
    "# id klientów nie będzie nam już potrzebne\n",
    "clients.drop(\"klient_id\", axis=1, inplace=True)"
   ]
  },
  {
   "cell_type": "code",
   "execution_count": 206,
   "id": "b78b5883",
   "metadata": {},
   "outputs": [],
   "source": [
    "clients = pd.get_dummies(clients, columns=[\"wyksztalcenie\"])\n",
    "clients.dropna(inplace=True) # we have to remove NaN values for Random forest classifier"
   ]
  },
  {
   "cell_type": "code",
   "execution_count": 207,
   "id": "20105a68",
   "metadata": {},
   "outputs": [
    {
     "data": {
      "text/plain": [
       "916"
      ]
     },
     "execution_count": 207,
     "metadata": {},
     "output_type": "execute_result"
    }
   ],
   "source": [
    "clients[clients['czy_kupil']==1]['czy_kupil'].count() \n",
    "# zauważmy, że nasze klasy nie są zbalansowane 916 kont premium vs 4254 kont nie-premium"
   ]
  },
  {
   "cell_type": "code",
   "execution_count": 208,
   "id": "e953c47c",
   "metadata": {},
   "outputs": [
    {
     "data": {
      "text/html": [
       "<div>\n",
       "<style scoped>\n",
       "    .dataframe tbody tr th:only-of-type {\n",
       "        vertical-align: middle;\n",
       "    }\n",
       "\n",
       "    .dataframe tbody tr th {\n",
       "        vertical-align: top;\n",
       "    }\n",
       "\n",
       "    .dataframe thead th {\n",
       "        text-align: right;\n",
       "    }\n",
       "</style>\n",
       "<table border=\"1\" class=\"dataframe\">\n",
       "  <thead>\n",
       "    <tr style=\"text-align: right;\">\n",
       "      <th></th>\n",
       "      <th>czy_samochod</th>\n",
       "      <th>czy_mieszkanie</th>\n",
       "      <th>plec</th>\n",
       "      <th>wynagrodzenie</th>\n",
       "      <th>wiek</th>\n",
       "      <th>czy_kupil</th>\n",
       "      <th>czy_w_bazie_klientow</th>\n",
       "      <th>liczba_zakupionych_wczesniej_produktow</th>\n",
       "      <th>srednia_dlugosc_sesji_min</th>\n",
       "      <th>srednia_liczba_sesji_na_miesiac</th>\n",
       "      <th>wyksztalcenie_podstawowe</th>\n",
       "      <th>wyksztalcenie_srednie</th>\n",
       "      <th>wyksztalcenie_wyzsze</th>\n",
       "    </tr>\n",
       "  </thead>\n",
       "  <tbody>\n",
       "    <tr>\n",
       "      <th>0</th>\n",
       "      <td>0</td>\n",
       "      <td>1.0</td>\n",
       "      <td>0</td>\n",
       "      <td>8643.0</td>\n",
       "      <td>61.0</td>\n",
       "      <td>0</td>\n",
       "      <td>0</td>\n",
       "      <td>3.0</td>\n",
       "      <td>6.0</td>\n",
       "      <td>3.0</td>\n",
       "      <td>1</td>\n",
       "      <td>0</td>\n",
       "      <td>0</td>\n",
       "    </tr>\n",
       "    <tr>\n",
       "      <th>1</th>\n",
       "      <td>0</td>\n",
       "      <td>0.0</td>\n",
       "      <td>0</td>\n",
       "      <td>5537.0</td>\n",
       "      <td>44.0</td>\n",
       "      <td>0</td>\n",
       "      <td>1</td>\n",
       "      <td>11.0</td>\n",
       "      <td>14.0</td>\n",
       "      <td>4.0</td>\n",
       "      <td>0</td>\n",
       "      <td>1</td>\n",
       "      <td>0</td>\n",
       "    </tr>\n",
       "    <tr>\n",
       "      <th>2</th>\n",
       "      <td>1</td>\n",
       "      <td>1.0</td>\n",
       "      <td>0</td>\n",
       "      <td>8985.0</td>\n",
       "      <td>50.0</td>\n",
       "      <td>0</td>\n",
       "      <td>1</td>\n",
       "      <td>39.0</td>\n",
       "      <td>9.0</td>\n",
       "      <td>3.0</td>\n",
       "      <td>1</td>\n",
       "      <td>0</td>\n",
       "      <td>0</td>\n",
       "    </tr>\n",
       "    <tr>\n",
       "      <th>3</th>\n",
       "      <td>1</td>\n",
       "      <td>0.0</td>\n",
       "      <td>0</td>\n",
       "      <td>5547.0</td>\n",
       "      <td>57.0</td>\n",
       "      <td>0</td>\n",
       "      <td>1</td>\n",
       "      <td>8.0</td>\n",
       "      <td>7.0</td>\n",
       "      <td>3.0</td>\n",
       "      <td>0</td>\n",
       "      <td>1</td>\n",
       "      <td>0</td>\n",
       "    </tr>\n",
       "    <tr>\n",
       "      <th>4</th>\n",
       "      <td>0</td>\n",
       "      <td>0.0</td>\n",
       "      <td>1</td>\n",
       "      <td>9211.0</td>\n",
       "      <td>54.0</td>\n",
       "      <td>0</td>\n",
       "      <td>1</td>\n",
       "      <td>7.0</td>\n",
       "      <td>9.0</td>\n",
       "      <td>2.0</td>\n",
       "      <td>0</td>\n",
       "      <td>0</td>\n",
       "      <td>1</td>\n",
       "    </tr>\n",
       "  </tbody>\n",
       "</table>\n",
       "</div>"
      ],
      "text/plain": [
       "   czy_samochod  czy_mieszkanie  plec  wynagrodzenie  wiek  czy_kupil  \\\n",
       "0             0             1.0     0         8643.0  61.0          0   \n",
       "1             0             0.0     0         5537.0  44.0          0   \n",
       "2             1             1.0     0         8985.0  50.0          0   \n",
       "3             1             0.0     0         5547.0  57.0          0   \n",
       "4             0             0.0     1         9211.0  54.0          0   \n",
       "\n",
       "   czy_w_bazie_klientow  liczba_zakupionych_wczesniej_produktow  \\\n",
       "0                     0                                     3.0   \n",
       "1                     1                                    11.0   \n",
       "2                     1                                    39.0   \n",
       "3                     1                                     8.0   \n",
       "4                     1                                     7.0   \n",
       "\n",
       "   srednia_dlugosc_sesji_min  srednia_liczba_sesji_na_miesiac  \\\n",
       "0                        6.0                              3.0   \n",
       "1                       14.0                              4.0   \n",
       "2                        9.0                              3.0   \n",
       "3                        7.0                              3.0   \n",
       "4                        9.0                              2.0   \n",
       "\n",
       "   wyksztalcenie_podstawowe  wyksztalcenie_srednie  wyksztalcenie_wyzsze  \n",
       "0                         1                      0                     0  \n",
       "1                         0                      1                     0  \n",
       "2                         1                      0                     0  \n",
       "3                         0                      1                     0  \n",
       "4                         0                      0                     1  "
      ]
     },
     "execution_count": 208,
     "metadata": {},
     "output_type": "execute_result"
    }
   ],
   "source": [
    "clients.head()"
   ]
  },
  {
   "cell_type": "markdown",
   "id": "b4a6b70f",
   "metadata": {},
   "source": [
    "### Zacznijmy budowe klasyfikatora"
   ]
  },
  {
   "cell_type": "code",
   "execution_count": 209,
   "id": "a02b9355",
   "metadata": {},
   "outputs": [
    {
     "data": {
      "text/plain": [
       "(5170,)"
      ]
     },
     "execution_count": 209,
     "metadata": {},
     "output_type": "execute_result"
    }
   ],
   "source": [
    "y=clients['czy_kupil'].values\n",
    "y.shape"
   ]
  },
  {
   "cell_type": "code",
   "execution_count": 210,
   "id": "cc514400",
   "metadata": {},
   "outputs": [
    {
     "data": {
      "text/plain": [
       "(5170, 12)"
      ]
     },
     "execution_count": 210,
     "metadata": {},
     "output_type": "execute_result"
    }
   ],
   "source": [
    "X = clients.drop(\"czy_kupil\", axis=1).values\n",
    "X.shape"
   ]
  },
  {
   "cell_type": "code",
   "execution_count": 211,
   "id": "e7896538",
   "metadata": {},
   "outputs": [],
   "source": [
    "X_train, X_test, y_train, y_test = train_test_split(X, y, test_size = 0.30)"
   ]
  },
  {
   "cell_type": "code",
   "execution_count": 212,
   "id": "928b0763",
   "metadata": {},
   "outputs": [],
   "source": [
    "clf = RandomForestClassifier(n_estimators = 100) "
   ]
  },
  {
   "cell_type": "code",
   "execution_count": 213,
   "id": "c6eedb73",
   "metadata": {},
   "outputs": [
    {
     "data": {
      "text/html": [
       "<style>#sk-container-id-4 {color: black;background-color: white;}#sk-container-id-4 pre{padding: 0;}#sk-container-id-4 div.sk-toggleable {background-color: white;}#sk-container-id-4 label.sk-toggleable__label {cursor: pointer;display: block;width: 100%;margin-bottom: 0;padding: 0.3em;box-sizing: border-box;text-align: center;}#sk-container-id-4 label.sk-toggleable__label-arrow:before {content: \"▸\";float: left;margin-right: 0.25em;color: #696969;}#sk-container-id-4 label.sk-toggleable__label-arrow:hover:before {color: black;}#sk-container-id-4 div.sk-estimator:hover label.sk-toggleable__label-arrow:before {color: black;}#sk-container-id-4 div.sk-toggleable__content {max-height: 0;max-width: 0;overflow: hidden;text-align: left;background-color: #f0f8ff;}#sk-container-id-4 div.sk-toggleable__content pre {margin: 0.2em;color: black;border-radius: 0.25em;background-color: #f0f8ff;}#sk-container-id-4 input.sk-toggleable__control:checked~div.sk-toggleable__content {max-height: 200px;max-width: 100%;overflow: auto;}#sk-container-id-4 input.sk-toggleable__control:checked~label.sk-toggleable__label-arrow:before {content: \"▾\";}#sk-container-id-4 div.sk-estimator input.sk-toggleable__control:checked~label.sk-toggleable__label {background-color: #d4ebff;}#sk-container-id-4 div.sk-label input.sk-toggleable__control:checked~label.sk-toggleable__label {background-color: #d4ebff;}#sk-container-id-4 input.sk-hidden--visually {border: 0;clip: rect(1px 1px 1px 1px);clip: rect(1px, 1px, 1px, 1px);height: 1px;margin: -1px;overflow: hidden;padding: 0;position: absolute;width: 1px;}#sk-container-id-4 div.sk-estimator {font-family: monospace;background-color: #f0f8ff;border: 1px dotted black;border-radius: 0.25em;box-sizing: border-box;margin-bottom: 0.5em;}#sk-container-id-4 div.sk-estimator:hover {background-color: #d4ebff;}#sk-container-id-4 div.sk-parallel-item::after {content: \"\";width: 100%;border-bottom: 1px solid gray;flex-grow: 1;}#sk-container-id-4 div.sk-label:hover label.sk-toggleable__label {background-color: #d4ebff;}#sk-container-id-4 div.sk-serial::before {content: \"\";position: absolute;border-left: 1px solid gray;box-sizing: border-box;top: 0;bottom: 0;left: 50%;z-index: 0;}#sk-container-id-4 div.sk-serial {display: flex;flex-direction: column;align-items: center;background-color: white;padding-right: 0.2em;padding-left: 0.2em;position: relative;}#sk-container-id-4 div.sk-item {position: relative;z-index: 1;}#sk-container-id-4 div.sk-parallel {display: flex;align-items: stretch;justify-content: center;background-color: white;position: relative;}#sk-container-id-4 div.sk-item::before, #sk-container-id-4 div.sk-parallel-item::before {content: \"\";position: absolute;border-left: 1px solid gray;box-sizing: border-box;top: 0;bottom: 0;left: 50%;z-index: -1;}#sk-container-id-4 div.sk-parallel-item {display: flex;flex-direction: column;z-index: 1;position: relative;background-color: white;}#sk-container-id-4 div.sk-parallel-item:first-child::after {align-self: flex-end;width: 50%;}#sk-container-id-4 div.sk-parallel-item:last-child::after {align-self: flex-start;width: 50%;}#sk-container-id-4 div.sk-parallel-item:only-child::after {width: 0;}#sk-container-id-4 div.sk-dashed-wrapped {border: 1px dashed gray;margin: 0 0.4em 0.5em 0.4em;box-sizing: border-box;padding-bottom: 0.4em;background-color: white;}#sk-container-id-4 div.sk-label label {font-family: monospace;font-weight: bold;display: inline-block;line-height: 1.2em;}#sk-container-id-4 div.sk-label-container {text-align: center;}#sk-container-id-4 div.sk-container {/* jupyter's `normalize.less` sets `[hidden] { display: none; }` but bootstrap.min.css set `[hidden] { display: none !important; }` so we also need the `!important` here to be able to override the default hidden behavior on the sphinx rendered scikit-learn.org. See: https://github.com/scikit-learn/scikit-learn/issues/21755 */display: inline-block !important;position: relative;}#sk-container-id-4 div.sk-text-repr-fallback {display: none;}</style><div id=\"sk-container-id-4\" class=\"sk-top-container\"><div class=\"sk-text-repr-fallback\"><pre>RandomForestClassifier()</pre><b>In a Jupyter environment, please rerun this cell to show the HTML representation or trust the notebook. <br />On GitHub, the HTML representation is unable to render, please try loading this page with nbviewer.org.</b></div><div class=\"sk-container\" hidden><div class=\"sk-item\"><div class=\"sk-estimator sk-toggleable\"><input class=\"sk-toggleable__control sk-hidden--visually\" id=\"sk-estimator-id-4\" type=\"checkbox\" checked><label for=\"sk-estimator-id-4\" class=\"sk-toggleable__label sk-toggleable__label-arrow\">RandomForestClassifier</label><div class=\"sk-toggleable__content\"><pre>RandomForestClassifier()</pre></div></div></div></div></div>"
      ],
      "text/plain": [
       "RandomForestClassifier()"
      ]
     },
     "execution_count": 213,
     "metadata": {},
     "output_type": "execute_result"
    }
   ],
   "source": [
    "clf.fit(X_train, y_train)"
   ]
  },
  {
   "cell_type": "code",
   "execution_count": 214,
   "id": "79137705",
   "metadata": {},
   "outputs": [],
   "source": [
    "y_pred = clf.predict(X_test)"
   ]
  },
  {
   "cell_type": "code",
   "execution_count": 215,
   "id": "f35c0f48",
   "metadata": {},
   "outputs": [
    {
     "name": "stdout",
     "output_type": "stream",
     "text": [
      "ACCURACY OF THE MODEL:  0.8420373952288845\n"
     ]
    }
   ],
   "source": [
    "print(\"ACCURACY OF THE MODEL: \", metrics.accuracy_score(y_test, y_pred))\n",
    "# sprawdzamy accuracy, ale pamiętamy, że może zakłamywać wyniki bo klasy są nierówne"
   ]
  },
  {
   "cell_type": "code",
   "execution_count": 216,
   "id": "625c50b3",
   "metadata": {},
   "outputs": [
    {
     "name": "stderr",
     "output_type": "stream",
     "text": [
      "/Users/joannawojdylo/opt/anaconda3/envs/inpost/lib/python3.10/site-packages/sklearn/utils/deprecation.py:87: FutureWarning: Function plot_roc_curve is deprecated; Function :func:`plot_roc_curve` is deprecated in 1.0 and will be removed in 1.2. Use one of the class methods: :meth:`sklearn.metrics.RocCurveDisplay.from_predictions` or :meth:`sklearn.metrics.RocCurveDisplay.from_estimator`.\n",
      "  warnings.warn(msg, category=FutureWarning)\n"
     ]
    },
    {
     "data": {
      "text/plain": [
       "<sklearn.metrics._plot.roc_curve.RocCurveDisplay at 0x7fb2736eb5b0>"
      ]
     },
     "execution_count": 216,
     "metadata": {},
     "output_type": "execute_result"
    },
    {
     "data": {
      "image/png": "[encoded data removed]",
      "text/plain": [
       "<Figure size 640x480 with 1 Axes>"
      ]
     },
     "metadata": {},
     "output_type": "display_data"
    }
   ],
   "source": [
    "metrics.plot_roc_curve(clf, X_test, y_test)\n",
    "# dlatego zobaczmy też na krzywą ROC i wyliczone AUC ROC"
   ]
  },
  {
   "cell_type": "code",
   "execution_count": 217,
   "id": "35c5fc23",
   "metadata": {},
   "outputs": [
    {
     "data": {
      "text/plain": [
       "array([0.91068174, 0.31754875])"
      ]
     },
     "execution_count": 217,
     "metadata": {},
     "output_type": "execute_result"
    }
   ],
   "source": [
    "metrics.f1_score(y_test, y_pred, average=None)"
   ]
  },
  {
   "cell_type": "markdown",
   "id": "f6f5c2ef",
   "metadata": {},
   "source": [
    "Sprawdźmy, które cechy okazały się najważniejsze w naszym modelu:"
   ]
  },
  {
   "cell_type": "code",
   "execution_count": 218,
   "id": "7fc1789d",
   "metadata": {},
   "outputs": [
    {
     "data": {
      "text/plain": [
       "wynagrodzenie                             0.245527\n",
       "wiek                                      0.229460\n",
       "srednia_dlugosc_sesji_min                 0.143163\n",
       "liczba_zakupionych_wczesniej_produktow    0.137725\n",
       "plec                                      0.057694\n",
       "srednia_liczba_sesji_na_miesiac           0.057669\n",
       "czy_samochod                              0.028504\n",
       "czy_w_bazie_klientow                      0.024787\n",
       "czy_mieszkanie                            0.023037\n",
       "wyksztalcenie_srednie                     0.017991\n",
       "wyksztalcenie_wyzsze                      0.017641\n",
       "wyksztalcenie_podstawowe                  0.016803\n",
       "dtype: float64"
      ]
     },
     "execution_count": 218,
     "metadata": {},
     "output_type": "execute_result"
    }
   ],
   "source": [
    "feature_imp = pd.Series(clf.feature_importances_, index = clients.drop(\"czy_kupil\", axis=1).columns).sort_values(ascending = False)\n",
    "feature_imp"
   ]
  },
  {
   "cell_type": "markdown",
   "id": "64e36bb8",
   "metadata": {},
   "source": [
    "Usuńmy mało istotne cechy, z wynikiem poniżej 0.05 i zobaczmy czy uda nam się nieco ulepszyć model"
   ]
  },
  {
   "cell_type": "code",
   "execution_count": 219,
   "id": "c187da36",
   "metadata": {},
   "outputs": [
    {
     "data": {
      "text/plain": [
       "(5170, 6)"
      ]
     },
     "execution_count": 219,
     "metadata": {},
     "output_type": "execute_result"
    }
   ],
   "source": [
    "X_new = clients.drop([\"czy_kupil\", \"czy_samochod\", \"czy_mieszkanie\", \"czy_w_bazie_klientow\", \"wyksztalcenie_srednie\", \"wyksztalcenie_wyzsze\", \"wyksztalcenie_podstawowe\"], axis=1).values\n",
    "X_new.shape"
   ]
  },
  {
   "cell_type": "code",
   "execution_count": 220,
   "id": "1f087e23",
   "metadata": {},
   "outputs": [],
   "source": [
    "X_train_new, X_test_new, y_train, y_test = train_test_split(X_new, y, test_size = 0.30)"
   ]
  },
  {
   "cell_type": "code",
   "execution_count": 221,
   "id": "0335388c",
   "metadata": {},
   "outputs": [
    {
     "name": "stdout",
     "output_type": "stream",
     "text": [
      "ACCURACY OF THE MODEL:  0.8355899419729207\n"
     ]
    }
   ],
   "source": [
    "clf_new = RandomForestClassifier(n_estimators = 100) \n",
    "clf_new.fit(X_train_new, y_train)\n",
    "y_pred_new = clf_new.predict(X_test_new)\n",
    "print(\"ACCURACY OF THE MODEL: \", metrics.accuracy_score(y_test, y_pred_new))"
   ]
  },
  {
   "cell_type": "markdown",
   "id": "71e8b4bf",
   "metadata": {},
   "source": [
    "Mamy nieznaczną poprawę accuracy, zobaczmy jeszcze jak wygląda krzywa ROC modelu:"
   ]
  },
  {
   "cell_type": "code",
   "execution_count": 222,
   "id": "aee36ab4",
   "metadata": {},
   "outputs": [
    {
     "name": "stderr",
     "output_type": "stream",
     "text": [
      "/Users/joannawojdylo/opt/anaconda3/envs/inpost/lib/python3.10/site-packages/sklearn/utils/deprecation.py:87: FutureWarning: Function plot_roc_curve is deprecated; Function :func:`plot_roc_curve` is deprecated in 1.0 and will be removed in 1.2. Use one of the class methods: :meth:`sklearn.metrics.RocCurveDisplay.from_predictions` or :meth:`sklearn.metrics.RocCurveDisplay.from_estimator`.\n",
      "  warnings.warn(msg, category=FutureWarning)\n"
     ]
    },
    {
     "data": {
      "text/plain": [
       "<sklearn.metrics._plot.roc_curve.RocCurveDisplay at 0x7fb2a4d7bee0>"
      ]
     },
     "execution_count": 222,
     "metadata": {},
     "output_type": "execute_result"
    },
    {
     "data": {
      "image/png": "[encoded data removed]",
      "text/plain": [
       "<Figure size 640x480 with 1 Axes>"
      ]
     },
     "metadata": {},
     "output_type": "display_data"
    }
   ],
   "source": [
    "metrics.plot_roc_curve(clf_new, X_test_new, y_test)"
   ]
  },
  {
   "cell_type": "code",
   "execution_count": 223,
   "id": "46cddfac",
   "metadata": {},
   "outputs": [
    {
     "data": {
      "text/plain": [
       "array([0.90538033, 0.37346437])"
      ]
     },
     "execution_count": 223,
     "metadata": {},
     "output_type": "execute_result"
    }
   ],
   "source": [
    "metrics.f1_score(y_test, y_pred_new, average=None)"
   ]
  }
 ],
 "metadata": {
  "kernelspec": {
   "display_name": "inpost",
   "language": "python",
   "name": "inpost"
  },
  "language_info": {
   "codemirror_mode": {
    "name": "ipython",
    "version": 3
   },
   "file_extension": ".py",
   "mimetype": "text/x-python",
   "name": "python",
   "nbconvert_exporter": "python",
   "pygments_lexer": "ipython3",
   "version": "3.10.4"
  }
 },
 "nbformat": 4,
 "nbformat_minor": 5
}
